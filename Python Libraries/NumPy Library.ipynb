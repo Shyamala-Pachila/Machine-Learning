{
 "cells": [
  {
   "cell_type": "markdown",
   "id": "04cfe3f1",
   "metadata": {},
   "source": [
    "# Array"
   ]
  },
  {
   "cell_type": "code",
   "execution_count": 2,
   "id": "0505351d",
   "metadata": {},
   "outputs": [
    {
     "name": "stdout",
     "output_type": "stream",
     "text": [
      "[1 2 3 4 5]\n",
      "<class 'numpy.ndarray'>\n",
      "[1, 2, 3, 4, 5]\n",
      "<class 'list'>\n"
     ]
    }
   ],
   "source": [
    "import numpy as np\n",
    "\n",
    "x=np.array([1,2,3,4,5])\n",
    "print(x)\n",
    "print(type(x))\n",
    "\n",
    "y=[1,2,3,4,5]\n",
    "y.\n",
    "print(y)\n",
    "print(type(y))"
   ]
  },
  {
   "cell_type": "markdown",
   "id": "9039726f",
   "metadata": {},
   "source": [
    "### 1. Creating an array"
   ]
  },
  {
   "cell_type": "code",
   "execution_count": 3,
   "id": "253c86dc",
   "metadata": {},
   "outputs": [
    {
     "name": "stdout",
     "output_type": "stream",
     "text": [
      "[1 2 3 4]\n",
      "1\n"
     ]
    }
   ],
   "source": [
    "ar1=np.array([1,2,3,4])\n",
    "print(ar1)\n",
    "ar1\n",
    "print(ar1.ndim)"
   ]
  },
  {
   "cell_type": "code",
   "execution_count": 4,
   "id": "b6922ef8",
   "metadata": {},
   "outputs": [
    {
     "name": "stdout",
     "output_type": "stream",
     "text": [
      "[[1 4 8 9]\n",
      " [1 2 3 4]]\n",
      "2\n"
     ]
    }
   ],
   "source": [
    "ar2=np.array([[1,4,8,9],[1,2,3,4]])\n",
    "print(ar2)\n",
    "ar2\n",
    "print(ar2.ndim)"
   ]
  },
  {
   "cell_type": "code",
   "execution_count": 5,
   "id": "0a400b04",
   "metadata": {},
   "outputs": [
    {
     "name": "stdout",
     "output_type": "stream",
     "text": [
      "[[[[[[[[[[[[1 2 3 4]\n",
      "           [1 5 8 0]]]]]]]]]]]]\n",
      "12\n"
     ]
    }
   ],
   "source": [
    "# Creating an array of dimension 12\n",
    "ar12=np.array([[1,2,3,4],[1,5,8,0]],ndmin=12)\n",
    "print(ar12)\n",
    "print(ar12.ndim)"
   ]
  },
  {
   "cell_type": "code",
   "execution_count": 7,
   "id": "28b42782",
   "metadata": {},
   "outputs": [
    {
     "data": {
      "text/plain": [
       "array([ 9. +0.j,  7.+98.j, 98.+86.j])"
      ]
     },
     "execution_count": 7,
     "metadata": {},
     "output_type": "execute_result"
    }
   ],
   "source": [
    "# creating an array with floats:\n",
    "np.array([2.3,5.6],dtype=float)\n",
    "\n",
    "# Array of Complex numbers\n",
    "np.array([9+0j,7+98j,98+86j])"
   ]
  },
  {
   "cell_type": "markdown",
   "id": "78000938",
   "metadata": {},
   "source": [
    "### 2. Special types of Arrays:"
   ]
  },
  {
   "cell_type": "code",
   "execution_count": 24,
   "id": "c92765bd",
   "metadata": {},
   "outputs": [
    {
     "name": "stdout",
     "output_type": "stream",
     "text": [
      "[0. 0. 0. 0.]\n",
      "\n",
      "[[0. 0. 0.]\n",
      " [0. 0. 0.]\n",
      " [0. 0. 0.]]\n"
     ]
    }
   ],
   "source": [
    "## Array filled with zeroes\n",
    "import numpy as np\n",
    "ar_zero=np.zeros(4)\n",
    "ar_zero1=np.zeros((3,3))\n",
    "\n",
    "print(ar_zero)\n",
    "print()\n",
    "print(ar_zero1)"
   ]
  },
  {
   "cell_type": "code",
   "execution_count": 25,
   "id": "d3cc09a4",
   "metadata": {},
   "outputs": [
    {
     "name": "stdout",
     "output_type": "stream",
     "text": [
      "[1. 1. 1. 1. 1.]\n",
      "\n",
      "[[1. 1. 1. 1. 1. 1. 1.]\n",
      " [1. 1. 1. 1. 1. 1. 1.]\n",
      " [1. 1. 1. 1. 1. 1. 1.]\n",
      " [1. 1. 1. 1. 1. 1. 1.]\n",
      " [1. 1. 1. 1. 1. 1. 1.]]\n"
     ]
    }
   ],
   "source": [
    "# Array filled with 1\n",
    "ar_one=np.ones(5)\n",
    "ar_one1=np.ones((5,7))\n",
    "print(ar_one)\n",
    "print()\n",
    "print(ar_one1)"
   ]
  },
  {
   "cell_type": "code",
   "execution_count": 26,
   "id": "a21dd1bb",
   "metadata": {},
   "outputs": [
    {
     "name": "stdout",
     "output_type": "stream",
     "text": [
      "[0. 0. 0. 0.]\n"
     ]
    }
   ],
   "source": [
    "# Creating an empty array:\n",
    "ar_emp=np.empty(4)\n",
    "print(ar_emp)"
   ]
  },
  {
   "cell_type": "code",
   "execution_count": 8,
   "id": "f778136d",
   "metadata": {},
   "outputs": [
    {
     "name": "stdout",
     "output_type": "stream",
     "text": [
      "[0 1 2 3 4 5 6 7 8 9]\n",
      "[10 12 14 16 18]\n"
     ]
    }
   ],
   "source": [
    "# An array with a range of elements:\n",
    "ar_range=np.arange(10)\n",
    "ar_range1=np.arange(10,20,2)\n",
    "print(ar_range)\n",
    "print(ar_range1)"
   ]
  },
  {
   "cell_type": "code",
   "execution_count": 12,
   "id": "781c7c41",
   "metadata": {},
   "outputs": [
    {
     "name": "stdout",
     "output_type": "stream",
     "text": [
      "[[1. 0. 0.]\n",
      " [0. 1. 0.]\n",
      " [0. 0. 1.]]\n",
      "\n",
      "[[1. 0. 0. 0. 0. 0.]\n",
      " [0. 1. 0. 0. 0. 0.]\n",
      " [0. 0. 1. 0. 0. 0.]\n",
      " [0. 0. 0. 1. 0. 0.]]\n"
     ]
    },
    {
     "data": {
      "text/plain": [
       "array([[1., 0., 0.],\n",
       "       [0., 1., 0.],\n",
       "       [0., 0., 1.]])"
      ]
     },
     "execution_count": 12,
     "metadata": {},
     "output_type": "execute_result"
    }
   ],
   "source": [
    "# Array diagonal elements filled with \"1\":\n",
    "ar_diagnl=np.eye(3)\n",
    "ar_diagnl1=np.eye(4,6)\n",
    "print(ar_diagnl)\n",
    "print()\n",
    "print(ar_diagnl1)\n",
    "\n",
    "\n",
    "# identity Matrix\n",
    "np.identity(3)"
   ]
  },
  {
   "cell_type": "code",
   "execution_count": 38,
   "id": "6cf46439",
   "metadata": {},
   "outputs": [
    {
     "name": "stdout",
     "output_type": "stream",
     "text": [
      "[ 0.  5. 10. 15. 20.]\n"
     ]
    }
   ],
   "source": [
    "# An Array with values that are spaced linearly in specified interval\n",
    "ar_lin=np.linspace(0,20,num=5)   # 1st attribute start, stop and no.of values between start and stop\n",
    "print(ar_lin)"
   ]
  },
  {
   "cell_type": "markdown",
   "id": "3e0a58cb",
   "metadata": {},
   "source": [
    "### 3. Creating arrays with random numbers:"
   ]
  },
  {
   "cell_type": "markdown",
   "id": "f47b6706",
   "metadata": {},
   "source": [
    "#### 1. rand() function\n"
   ]
  },
  {
   "cell_type": "code",
   "execution_count": 41,
   "id": "76eda45a",
   "metadata": {},
   "outputs": [
    {
     "name": "stdout",
     "output_type": "stream",
     "text": [
      "[[0.74497125 0.87638786]\n",
      " [0.33046818 0.59426367]\n",
      " [0.96418063 0.29260674]\n",
      " [0.45474949 0.98183329]\n",
      " [0.51178411 0.67828692]]\n"
     ]
    }
   ],
   "source": [
    "import numpy as np\n",
    "var=np.random.rand(5,2)\n",
    "print(var)"
   ]
  },
  {
   "cell_type": "markdown",
   "id": "d733638c",
   "metadata": {},
   "source": [
    "#### 2. randn() function"
   ]
  },
  {
   "cell_type": "code",
   "execution_count": 42,
   "id": "d3402e5c",
   "metadata": {
    "scrolled": true
   },
   "outputs": [
    {
     "name": "stdout",
     "output_type": "stream",
     "text": [
      "[[-2.60145356e-01  7.36646237e-01]\n",
      " [-6.97452867e-05 -4.33929053e-01]\n",
      " [-1.08608414e+00 -1.07938107e-02]\n",
      " [ 1.77099569e+00 -6.98843960e-02]\n",
      " [-1.61127926e+00 -1.35737488e+00]]\n"
     ]
    }
   ],
   "source": [
    "import numpy as np\n",
    "var1=np.random.randn(5,2)\n",
    "print(var1)"
   ]
  },
  {
   "cell_type": "markdown",
   "id": "d32bac07",
   "metadata": {},
   "source": [
    "#### 3. ranf()  function"
   ]
  },
  {
   "cell_type": "code",
   "execution_count": 51,
   "id": "c874c9b1",
   "metadata": {},
   "outputs": [
    {
     "name": "stdout",
     "output_type": "stream",
     "text": [
      "[0.49165203 0.75596339 0.43202661 0.74332404 0.96682211]\n"
     ]
    }
   ],
   "source": [
    "import numpy as np\n",
    "var2=np.random.ranf(5)\n",
    "print(var2)"
   ]
  },
  {
   "cell_type": "markdown",
   "id": "bc5e56f0",
   "metadata": {},
   "source": [
    "#### 4. randint() "
   ]
  },
  {
   "cell_type": "code",
   "execution_count": 9,
   "id": "d56099a0",
   "metadata": {},
   "outputs": [
    {
     "name": "stdout",
     "output_type": "stream",
     "text": [
      "[29 84 38 44 68 86 68  5 73]\n"
     ]
    }
   ],
   "source": [
    "import numpy as np\n",
    "var3=np.random.randint(1,100,9)   #randint(min, max,no.of integers you want)\n",
    "print(var3)"
   ]
  },
  {
   "cell_type": "markdown",
   "id": "c369f3f5",
   "metadata": {},
   "source": [
    "### 4. Data Types in numpy arrays:"
   ]
  },
  {
   "cell_type": "code",
   "execution_count": 55,
   "id": "bb2f8645",
   "metadata": {},
   "outputs": [
    {
     "name": "stdout",
     "output_type": "stream",
     "text": [
      "Data type of var is int32\n"
     ]
    }
   ],
   "source": [
    "import numpy as np\n",
    "var=np.array([1,2,4,5])\n",
    "print(\"Data type of var is\",var.dtype)"
   ]
  },
  {
   "cell_type": "markdown",
   "id": "b06d6edb",
   "metadata": {},
   "source": [
    "## Changing Datatype"
   ]
  },
  {
   "cell_type": "code",
   "execution_count": 60,
   "id": "cbf53e34",
   "metadata": {},
   "outputs": [
    {
     "name": "stdout",
     "output_type": "stream",
     "text": [
      "int32\n",
      "float32\n",
      "\n",
      "int32\n",
      "float64\n"
     ]
    }
   ],
   "source": [
    "# Converting the data type of an array\n",
    "# Method 1:\n",
    "var1= np.array([4,5,6])\n",
    "new=np.float32(var1)\n",
    "print(var1.dtype)\n",
    "print(new.dtype)\n",
    "print()\n",
    "# Method 2:\n",
    "var2= np.array([4,5,6])\n",
    "new2=var2.astype(float)\n",
    "print(var2.dtype)\n",
    "print(new2.dtype)"
   ]
  },
  {
   "cell_type": "markdown",
   "id": "5153732c",
   "metadata": {},
   "source": [
    "### 5. Arithmetic Operation: "
   ]
  },
  {
   "cell_type": "code",
   "execution_count": 63,
   "id": "d5a4ea46",
   "metadata": {},
   "outputs": [
    {
     "name": "stdout",
     "output_type": "stream",
     "text": [
      "[ 5 11 12]\n",
      "[-3 -7 -4]\n",
      "[ 4 18 32]\n",
      "[0.25       0.22222222 0.5       ]\n",
      "[1 2 4]\n",
      "[    1   512 65536]\n",
      "[1 0 0]\n"
     ]
    }
   ],
   "source": [
    "a=np.array([1,2,4])\n",
    "b=np.array([4,9,8])\n",
    "print(np.add(a,b))\n",
    "print(np.subtract(a,b))\n",
    "print(np.multiply(a,b))\n",
    "print(np.divide(a,b))\n",
    "print(np.mod(a,b))\n",
    "print(np.power(a,b))\n",
    "print(np.reciprocal(a))"
   ]
  },
  {
   "cell_type": "code",
   "execution_count": 16,
   "id": "d89ff861",
   "metadata": {},
   "outputs": [
    {
     "name": "stdout",
     "output_type": "stream",
     "text": [
      "[[ 5 11 12]\n",
      " [ 5  5 16]]\n",
      "[[-3 -7 -4]\n",
      " [ 1  5  0]]\n",
      "[[ 4 18 32]\n",
      " [ 6  0 64]]\n",
      "[[0.25       0.22222222 0.5       ]\n",
      " [1.5               inf 1.        ]]\n",
      "[[1 2 4]\n",
      " [1 0 0]]\n",
      "[[       1      512    65536]\n",
      " [       9        1 16777216]]\n",
      "[[1 0 0]\n",
      " [0 0 0]]\n"
     ]
    },
    {
     "name": "stderr",
     "output_type": "stream",
     "text": [
      "C:\\Users\\shyam\\AppData\\Local\\Temp\\ipykernel_15912\\3550022615.py:7: RuntimeWarning: divide by zero encountered in divide\n",
      "  print(np.divide(a1,b1))\n",
      "C:\\Users\\shyam\\AppData\\Local\\Temp\\ipykernel_15912\\3550022615.py:8: RuntimeWarning: divide by zero encountered in remainder\n",
      "  print(np.mod(a1,b1))\n"
     ]
    }
   ],
   "source": [
    "# Arithmetic operations on On 2D array\n",
    "a1=np.array([[1,2,4],[3,5,8]])\n",
    "b1=np.array([[4,9,8],[2,0,8]])\n",
    "print(np.add(a1,b1))\n",
    "print(np.subtract(a1,b1))\n",
    "print(np.multiply(a1,b1))\n",
    "print(np.divide(a1,b1))\n",
    "print(np.mod(a1,b1))\n",
    "print(np.power(a1,b1))\n",
    "print(np.reciprocal(a1))"
   ]
  },
  {
   "cell_type": "markdown",
   "id": "af0dfa06",
   "metadata": {},
   "source": [
    "## Relational Operators:"
   ]
  },
  {
   "cell_type": "code",
   "execution_count": 13,
   "id": "4b3135a9",
   "metadata": {},
   "outputs": [
    {
     "data": {
      "text/plain": [
       "array([[False,  True,  True,  True],\n",
       "       [ True,  True,  True,  True]])"
      ]
     },
     "execution_count": 13,
     "metadata": {},
     "output_type": "execute_result"
    }
   ],
   "source": [
    "a1=np.array([[0,1,2,3],[4,5,6,7]])\n",
    "a1>0"
   ]
  },
  {
   "cell_type": "markdown",
   "id": "3265ff8d",
   "metadata": {},
   "source": [
    "## Vector Operations:"
   ]
  },
  {
   "cell_type": "code",
   "execution_count": 17,
   "id": "5bf87bf9",
   "metadata": {},
   "outputs": [
    {
     "data": {
      "text/plain": [
       "array([[ 5, 11, 12],\n",
       "       [ 5,  5, 16]])"
      ]
     },
     "execution_count": 17,
     "metadata": {},
     "output_type": "execute_result"
    }
   ],
   "source": [
    "# operations on 2D arrays is the Vector Operations\n",
    "a1+b1"
   ]
  },
  {
   "cell_type": "markdown",
   "id": "adf9a32a",
   "metadata": {},
   "source": [
    "### 6. Arithmetic Functions: "
   ]
  },
  {
   "cell_type": "markdown",
   "id": "84b62a31",
   "metadata": {},
   "source": [
    "#### max/min/sum/argmin/argmax/prod"
   ]
  },
  {
   "cell_type": "code",
   "execution_count": 18,
   "id": "712e1f09",
   "metadata": {},
   "outputs": [
    {
     "name": "stdout",
     "output_type": "stream",
     "text": [
      "minimum is:  1\n",
      "minimum is:  [1 8]\n",
      "minimum is:  0\n",
      "minimum is:  [0 1]\n",
      "Cumulative sum:  [  1   4  10  88  96 105]\n",
      "Productis:  101088\n"
     ]
    }
   ],
   "source": [
    "import numpy as np\n",
    "x=np.array([[1,3,6],[78,8,9]])\n",
    "print(\"minimum is: \", np.min(x))\n",
    "print(\"minimum is: \", np.min(x,1)) # finding minimum in rows where axis=0 means columns and axis=1 means rows\n",
    "print(\"minimum is: \", np.argmin(x))\n",
    "print(\"minimum is: \", np.argmin(x,1))  # returns indices of min values\n",
    "print(\"Cumulative sum: \", np.cumsum(x))\n",
    "print(\"Productis: \",np.prod(x))"
   ]
  },
  {
   "cell_type": "markdown",
   "id": "43b8a9fd",
   "metadata": {},
   "source": [
    "#### mean/median/std/var"
   ]
  },
  {
   "cell_type": "code",
   "execution_count": 29,
   "id": "56a0b8f3",
   "metadata": {},
   "outputs": [
    {
     "name": "stdout",
     "output_type": "stream",
     "text": [
      "17.5\n",
      "[39.5  5.5  7.5]\n",
      "[ 3.33333333 31.66666667]\n",
      "\n",
      "739.5833333333334\n",
      "27.195281453467867\n"
     ]
    }
   ],
   "source": [
    "print(np.mean(x))    # Mean of all elemnts\n",
    "print(np.mean(x,0))   # Gives mean of elements of each column\n",
    "print(np.mean(x,axis=1)) # Gives mean of elements of each rows\n",
    "\n",
    "print()\n",
    "print(np.var(x))\n",
    "print(np.std(x))\n"
   ]
  },
  {
   "cell_type": "markdown",
   "id": "4461ce57",
   "metadata": {},
   "source": [
    "### TrigonometricFunctions"
   ]
  },
  {
   "cell_type": "code",
   "execution_count": 30,
   "id": "566f4f09",
   "metadata": {},
   "outputs": [
    {
     "data": {
      "text/plain": [
       "array([[ 0.84147098,  0.14112001, -0.2794155 ],\n",
       "       [ 0.51397846,  0.98935825,  0.41211849]])"
      ]
     },
     "execution_count": 30,
     "metadata": {},
     "output_type": "execute_result"
    }
   ],
   "source": [
    "np.sin(x)"
   ]
  },
  {
   "cell_type": "markdown",
   "id": "6517de2d",
   "metadata": {},
   "source": [
    "#### Dot Product"
   ]
  },
  {
   "cell_type": "code",
   "execution_count": 50,
   "id": "b2544a6e",
   "metadata": {},
   "outputs": [
    {
     "data": {
      "text/plain": [
       "array([[86]])"
      ]
     },
     "execution_count": 50,
     "metadata": {},
     "output_type": "execute_result"
    }
   ],
   "source": [
    "p=np.arange(1,30,10)\n",
    "p.ndim\n",
    "p.shape\n",
    "q = np.array([1, 2, 3]).reshape(1, 3, 1)  # Reshape into a 3D array\n",
    "q.shape\n",
    "np.dot(p,q)"
   ]
  },
  {
   "cell_type": "code",
   "execution_count": null,
   "id": "1dc68da9",
   "metadata": {},
   "outputs": [],
   "source": [
    "# Log and exponents can also be calculated"
   ]
  },
  {
   "cell_type": "code",
   "execution_count": 52,
   "id": "13258699",
   "metadata": {},
   "outputs": [
    {
     "name": "stdout",
     "output_type": "stream",
     "text": [
      "[ 1.  1. 91. 40. 56. 78.]\n",
      "[ 1.  0. 90. 40. 56. 78.]\n",
      "[ 2.  1. 91. 40. 57. 79.]\n"
     ]
    }
   ],
   "source": [
    "# round/floor/ceil\n",
    "a=np.array([1.4,.69,90.7,40,56.3,78.5])\n",
    "print(np.round(a))\n",
    "print(np.floor(a))\n",
    "print(np.ceil(a))"
   ]
  },
  {
   "cell_type": "markdown",
   "id": "75d69f1f",
   "metadata": {},
   "source": [
    "### 7. Shape and Reshaping of Arrays: "
   ]
  },
  {
   "cell_type": "code",
   "execution_count": 72,
   "id": "77bd7923",
   "metadata": {},
   "outputs": [
    {
     "name": "stdout",
     "output_type": "stream",
     "text": [
      "(4,) 1\n",
      "\n",
      "[[[[[1 4 6 7]]]]]\n",
      "(1, 1, 1, 1, 4) 5\n"
     ]
    }
   ],
   "source": [
    "# Shape of an Array:\n",
    "a=np.array([1,24,78,9])\n",
    "b=np.array([1,4,6,7],ndmin=5)\n",
    "print(a.shape, a.ndim)\n",
    "print()\n",
    "print(b)\n",
    "print(b.shape, b.ndim)"
   ]
  },
  {
   "cell_type": "code",
   "execution_count": 79,
   "id": "066a06bc",
   "metadata": {},
   "outputs": [
    {
     "name": "stdout",
     "output_type": "stream",
     "text": [
      "[1 2 3 4 5 7 8 0]\n",
      "1\n",
      "\n",
      "[[1 2]\n",
      " [3 4]\n",
      " [5 7]\n",
      " [8 0]]\n",
      "2\n"
     ]
    }
   ],
   "source": [
    "#Reshaping of an array:\n",
    "x=np.array([1,2,3,4,5,7,8,0])\n",
    "print(x)\n",
    "print(x.ndim)\n",
    "print()\n",
    "y=x.reshape(4,2)\n",
    "print(y)\n",
    "print(y.ndim)"
   ]
  },
  {
   "cell_type": "code",
   "execution_count": 11,
   "id": "29b301d4",
   "metadata": {},
   "outputs": [
    {
     "data": {
      "text/plain": [
       "array([[ 1,  2],\n",
       "       [ 3,  4],\n",
       "       [ 5,  6],\n",
       "       [ 7,  8],\n",
       "       [ 9, 10],\n",
       "       [11, 12]])"
      ]
     },
     "execution_count": 11,
     "metadata": {},
     "output_type": "execute_result"
    }
   ],
   "source": [
    "# With Reshape, and arange\n",
    "np.arange(1,13).reshape(6,2)"
   ]
  },
  {
   "cell_type": "markdown",
   "id": "8bad9bdd",
   "metadata": {},
   "source": [
    "### 8. Broadcasting:"
   ]
  },
  {
   "cell_type": "code",
   "execution_count": 85,
   "id": "33ea0caa",
   "metadata": {},
   "outputs": [
    {
     "name": "stdout",
     "output_type": "stream",
     "text": [
      "[[[  2   9  97   1  99]\n",
      "  [ 10  17 105   9 107]\n",
      "  [ 10  17 105   9 107]]]\n",
      "(1, 3, 5)\n"
     ]
    }
   ],
   "source": [
    "x=np.array([[[1],[9],[9]]])\n",
    "y =np.array([1,8,96,0,98])\n",
    "add=x+y\n",
    "print(add)\n",
    "print(add.shape)"
   ]
  },
  {
   "cell_type": "markdown",
   "id": "c59039b9",
   "metadata": {},
   "source": [
    "### 9. Indexing "
   ]
  },
  {
   "cell_type": "code",
   "execution_count": 86,
   "id": "1d29faf6",
   "metadata": {},
   "outputs": [
    {
     "name": "stdout",
     "output_type": "stream",
     "text": [
      "[1 2 3 4]\n",
      "1\n",
      "4\n",
      "3\n"
     ]
    }
   ],
   "source": [
    "# Indexing in 1D Array:\n",
    "a=np.array([1,2,3,4])\n",
    "print(a)\n",
    "print(a.ndim)\n",
    "print(a[3])\n",
    "print(a[-2])"
   ]
  },
  {
   "cell_type": "code",
   "execution_count": 87,
   "id": "f84ac334",
   "metadata": {},
   "outputs": [
    {
     "name": "stdout",
     "output_type": "stream",
     "text": [
      "[[ 1  2  3  4]\n",
      " [90  5  7 17]]\n",
      "2\n",
      "5\n"
     ]
    }
   ],
   "source": [
    "# Indexing in 2D array:\n",
    "b=np.array([[1,2,3,4],[90,5,7,17]])\n",
    "print(b)\n",
    "print(b.ndim)\n",
    "print(b[-1,-3])"
   ]
  },
  {
   "cell_type": "code",
   "execution_count": 89,
   "id": "aec25f49",
   "metadata": {},
   "outputs": [
    {
     "name": "stdout",
     "output_type": "stream",
     "text": [
      "[[[ 1  2]\n",
      "  [ 9  0]]\n",
      "\n",
      " [[ 5  6]\n",
      "  [56 90]]]\n",
      "3\n",
      "5\n"
     ]
    }
   ],
   "source": [
    "# Indexing in 3D array:\n",
    "c=np.array([[[1,2],[9,0]],[[5,6],[56,90]]])\n",
    "\n",
    "print(c)\n",
    "print(c.ndim)\n",
    "print(c[1,0,-2])"
   ]
  },
  {
   "cell_type": "markdown",
   "id": "af804bd6",
   "metadata": {},
   "source": [
    "### 10. Slicing "
   ]
  },
  {
   "cell_type": "code",
   "execution_count": 97,
   "id": "bfd72dd8",
   "metadata": {},
   "outputs": [
    {
     "name": "stdout",
     "output_type": "stream",
     "text": [
      "[0 1 2 3 4 5 6 7 8 9]\n",
      "\n",
      "Values from 0 to 4: [0 1 2 3 4]\n",
      "Values from 5 to end: [5 6 7 8 9]\n",
      "values from start to end [0 1 2 3 4 5 6 7 8 9]\n",
      "Array with skipping the values after 2 steps: [0 2 4 6 8]\n"
     ]
    }
   ],
   "source": [
    "# Slicing in 1D array:\n",
    "var=np.array([0,1,2,3,4,5,6,7,8,9])\n",
    "print(var)\n",
    "print()\n",
    "print(\"Values from 0 to 4:\", var[0:5])\n",
    "print(\"Values from 5 to end:\", var[5:])\n",
    "print(\"values from start to end\", var[:])\n",
    "print(\"Array with skipping the values after 2 steps:\", var[::2])"
   ]
  },
  {
   "cell_type": "code",
   "execution_count": 99,
   "id": "75bbc756",
   "metadata": {},
   "outputs": [
    {
     "name": "stdout",
     "output_type": "stream",
     "text": [
      "[[ 1  2  3  4]\n",
      " [ 5  6  7  8]\n",
      " [ 9 10 11 12]\n",
      " [13 14 15 16]]\n",
      "2\n",
      "[13 15]\n"
     ]
    }
   ],
   "source": [
    "# Slicing in 2D array:\n",
    "vari=np.array([[1,2,3,4],[5,6,7,8],[9,10,11,12],[13,14,15,16]])\n",
    "print(vari)\n",
    "print(vari.ndim)\n",
    "print(vari[-1,::2])"
   ]
  },
  {
   "cell_type": "code",
   "execution_count": 53,
   "id": "f9174be3",
   "metadata": {},
   "outputs": [
    {
     "data": {
      "text/plain": [
       "array([[[ 0,  1,  2],\n",
       "        [ 3,  4,  5],\n",
       "        [ 6,  7,  8]],\n",
       "\n",
       "       [[ 9, 10, 11],\n",
       "        [12, 13, 14],\n",
       "        [15, 16, 17]],\n",
       "\n",
       "       [[18, 19, 20],\n",
       "        [21, 22, 23],\n",
       "        [24, 25, 26]]])"
      ]
     },
     "execution_count": 53,
     "metadata": {},
     "output_type": "execute_result"
    }
   ],
   "source": [
    "# Slicing in 3D array:\n",
    "a=np.arange(27).reshape(3,3,3)\n",
    "a"
   ]
  },
  {
   "cell_type": "code",
   "execution_count": 58,
   "id": "4b9e5381",
   "metadata": {},
   "outputs": [
    {
     "name": "stdout",
     "output_type": "stream",
     "text": [
      "[[ 9 10 11]\n",
      " [12 13 14]\n",
      " [15 16 17]]\n",
      "\n",
      "13\n"
     ]
    }
   ],
   "source": [
    "print(a[1])\n",
    "print()\n",
    "print(a[1,1,1])"
   ]
  },
  {
   "cell_type": "markdown",
   "id": "1e2398b9",
   "metadata": {},
   "source": [
    "### 11. Iterating Numpy Arrays: "
   ]
  },
  {
   "cell_type": "code",
   "execution_count": 100,
   "id": "f73a6d89",
   "metadata": {},
   "outputs": [
    {
     "name": "stdout",
     "output_type": "stream",
     "text": [
      "[1 2 3 4]\n",
      "\n",
      "1\n",
      "2\n",
      "3\n",
      "4\n"
     ]
    }
   ],
   "source": [
    "#For 1D:\n",
    "var=np.array([1,2,3,4])\n",
    "print(var)\n",
    "print()\n",
    "for i in var:\n",
    "    print(i)"
   ]
  },
  {
   "cell_type": "code",
   "execution_count": 135,
   "id": "a4fd0874",
   "metadata": {},
   "outputs": [
    {
     "name": "stdout",
     "output_type": "stream",
     "text": [
      "[[1 2 3]\n",
      " [4 5 6]]\n",
      "\n",
      "1\n",
      "2\n",
      "3\n",
      "4\n",
      "5\n",
      "6\n",
      "\n"
     ]
    }
   ],
   "source": [
    "# For 2D:\n",
    "var=np.array([[1,2,3],[4,5,6]])\n",
    "print(var)\n",
    "print()\n",
    "for i  in var:\n",
    "    for j in i:\n",
    "        print(j)\n",
    "print()\n",
    "\n"
   ]
  },
  {
   "cell_type": "code",
   "execution_count": 136,
   "id": "98f9efc7",
   "metadata": {},
   "outputs": [
    {
     "name": "stdout",
     "output_type": "stream",
     "text": [
      "1\n",
      "2\n",
      "3\n",
      "4\n",
      "5\n",
      "6\n",
      "\n"
     ]
    }
   ],
   "source": [
    "# Using nditr function:\n",
    "for i in np.nditer(var):\n",
    "    print(i)\n",
    "print()\n",
    "\n"
   ]
  },
  {
   "cell_type": "code",
   "execution_count": 137,
   "id": "4ee9ec88",
   "metadata": {},
   "outputs": [
    {
     "name": "stdout",
     "output_type": "stream",
     "text": [
      "b'1'\n",
      "b'2'\n",
      "b'3'\n",
      "b'4'\n",
      "b'5'\n",
      "b'6'\n",
      "\n",
      "(0, 0) 1\n",
      "(0, 1) 2\n",
      "(0, 2) 3\n",
      "(1, 0) 4\n",
      "(1, 1) 5\n",
      "(1, 2) 6\n"
     ]
    }
   ],
   "source": [
    "# You can also change the data type adding some extra attributes:\n",
    "for i in np.nditer(var,flags=[\"buffered\"],op_dtypes=[\"S\"]):\n",
    "    print(i)\n",
    "print()\n",
    "# If you wanna print the indexx of each value you have to use the function ndenumerate():\n",
    "for i,d in np.ndenumerate(var):\n",
    "    print(i,d)\n"
   ]
  },
  {
   "cell_type": "markdown",
   "id": "8693a799",
   "metadata": {},
   "source": [
    "### 12. Copy vs View: "
   ]
  },
  {
   "cell_type": "code",
   "execution_count": 118,
   "id": "6a35e523",
   "metadata": {},
   "outputs": [
    {
     "name": "stdout",
     "output_type": "stream",
     "text": [
      "Var is: [1 2 3]\n",
      "copied num: [1 2 3]\n",
      "Var is: [ 1 44  3]\n",
      "copied num: [1 2 3]\n"
     ]
    }
   ],
   "source": [
    "var=np.array([1,2,3])\n",
    "co=var.copy()\n",
    "print(\"Var is:\",var)\n",
    "print(\"copied num:\", co)\n",
    "\n",
    "# When you make changes in var it doesnt effect copied value and vice versa.\n",
    "var=np.array([1,2,3])\n",
    "co=var.copy()\n",
    "var[1]=44\n",
    "print(\"Var is:\",var)\n",
    "print(\"copied num:\", co)"
   ]
  },
  {
   "cell_type": "code",
   "execution_count": 119,
   "id": "544f867b",
   "metadata": {
    "scrolled": true
   },
   "outputs": [
    {
     "name": "stdout",
     "output_type": "stream",
     "text": [
      "Var is: [1 2 3]\n",
      "view num: [1 2 3]\n",
      "Var is: [ 1 44  3]\n",
      "copied num: [ 1 44  3]\n"
     ]
    }
   ],
   "source": [
    "var=np.array([1,2,3])\n",
    "vi=var.view()\n",
    "print(\"Var is:\",var)\n",
    "print(\"view num:\", vi)\n",
    "\n",
    "# When you make changes in var it doesnt effect copied value and vice versa.\n",
    "var=np.array([1,2,3])\n",
    "vi=var.view()\n",
    "var[1]=44\n",
    "print(\"Var is:\",var)\n",
    "print(\"copied num:\", vi)"
   ]
  },
  {
   "cell_type": "markdown",
   "id": "fa9b2c5e",
   "metadata": {},
   "source": [
    "## Reshaping (reshape, Transpose, ravel)"
   ]
  },
  {
   "cell_type": "code",
   "execution_count": 61,
   "id": "70f2c935",
   "metadata": {},
   "outputs": [
    {
     "data": {
      "text/plain": [
       "array([[[ 0,  9, 18],\n",
       "        [ 3, 12, 21],\n",
       "        [ 6, 15, 24]],\n",
       "\n",
       "       [[ 1, 10, 19],\n",
       "        [ 4, 13, 22],\n",
       "        [ 7, 16, 25]],\n",
       "\n",
       "       [[ 2, 11, 20],\n",
       "        [ 5, 14, 23],\n",
       "        [ 8, 17, 26]]])"
      ]
     },
     "execution_count": 61,
     "metadata": {},
     "output_type": "execute_result"
    }
   ],
   "source": [
    "#Transpose:\n",
    "a=np.arange(27).reshape(3,3,3)\n",
    "np.transpose(a)  # in simple you can use a.T\n",
    "a.T"
   ]
  },
  {
   "cell_type": "code",
   "execution_count": 62,
   "id": "744cc322",
   "metadata": {},
   "outputs": [
    {
     "data": {
      "text/plain": [
       "array([ 0,  1,  2,  3,  4,  5,  6,  7,  8,  9, 10, 11, 12, 13, 14, 15, 16,\n",
       "       17, 18, 19, 20, 21, 22, 23, 24, 25, 26])"
      ]
     },
     "execution_count": 62,
     "metadata": {},
     "output_type": "execute_result"
    }
   ],
   "source": [
    "# Ravel is the function which converts any nd array into 1 d array:\n",
    "a.ravel()"
   ]
  },
  {
   "cell_type": "code",
   "execution_count": 63,
   "id": "1a624bf6",
   "metadata": {},
   "outputs": [
    {
     "data": {
      "text/plain": [
       "array([[[ 0,  9, 18],\n",
       "        [ 3, 12, 21],\n",
       "        [ 6, 15, 24]],\n",
       "\n",
       "       [[ 1, 10, 19],\n",
       "        [ 4, 13, 22],\n",
       "        [ 7, 16, 25]],\n",
       "\n",
       "       [[ 2, 11, 20],\n",
       "        [ 5, 14, 23],\n",
       "        [ 8, 17, 26]]])"
      ]
     },
     "execution_count": 63,
     "metadata": {},
     "output_type": "execute_result"
    }
   ],
   "source": [
    "a.transpose()"
   ]
  },
  {
   "cell_type": "markdown",
   "id": "4bb0bb32",
   "metadata": {},
   "source": [
    "## Stacking:"
   ]
  },
  {
   "cell_type": "code",
   "execution_count": 69,
   "id": "ce091b29",
   "metadata": {},
   "outputs": [
    {
     "data": {
      "text/plain": [
       "array([[ 0,  1,  2,  3,  0,  1,  2,  3],\n",
       "       [ 4,  5,  6,  7,  4,  5,  6,  7],\n",
       "       [ 8,  9, 10, 11,  8,  9, 10, 11]])"
      ]
     },
     "execution_count": 69,
     "metadata": {},
     "output_type": "execute_result"
    }
   ],
   "source": [
    "# For stacking shapes should be same.\n",
    "# Horizontal Stacking:\n",
    "# Example: [2x2] [2x2] will  become [2x4]\n",
    "f=np.arange(12).reshape(3,4)\n",
    "g=np.arange(12).reshape(3,4)\n",
    "\n",
    "h=np.hstack((f,g))\n",
    "h"
   ]
  },
  {
   "cell_type": "code",
   "execution_count": 70,
   "id": "6025e3db",
   "metadata": {},
   "outputs": [
    {
     "data": {
      "text/plain": [
       "array([[ 0,  1,  2,  3],\n",
       "       [ 4,  5,  6,  7],\n",
       "       [ 8,  9, 10, 11],\n",
       "       [ 0,  1,  2,  3],\n",
       "       [ 4,  5,  6,  7],\n",
       "       [ 8,  9, 10, 11]])"
      ]
     },
     "execution_count": 70,
     "metadata": {},
     "output_type": "execute_result"
    }
   ],
   "source": [
    "# Vertical Stacking:\n",
    "i=np.vstack((f,g))\n",
    "i"
   ]
  },
  {
   "cell_type": "markdown",
   "id": "395ea526",
   "metadata": {},
   "source": [
    "### Splitting: "
   ]
  },
  {
   "cell_type": "code",
   "execution_count": 76,
   "id": "1161db67",
   "metadata": {},
   "outputs": [
    {
     "name": "stdout",
     "output_type": "stream",
     "text": [
      "[array([[ 0,  1,  2,  3],\n",
      "       [ 4,  5,  6,  7],\n",
      "       [ 8,  9, 10, 11]]), array([[ 0,  1,  2,  3],\n",
      "       [ 4,  5,  6,  7],\n",
      "       [ 8,  9, 10, 11]])]\n",
      "\n",
      "[array([[0, 1],\n",
      "       [4, 5],\n",
      "       [8, 9]]), array([[ 2,  3],\n",
      "       [ 6,  7],\n",
      "       [10, 11]]), array([[0, 1],\n",
      "       [4, 5],\n",
      "       [8, 9]]), array([[ 2,  3],\n",
      "       [ 6,  7],\n",
      "       [10, 11]])]\n"
     ]
    }
   ],
   "source": [
    "# Opposite to stacking:\n",
    "j=np.vsplit(i,2)\n",
    "print(j)\n",
    "\n",
    "print()\n",
    "\n",
    "k=np.hsplit(h,4)\n",
    "print(k)"
   ]
  },
  {
   "cell_type": "markdown",
   "id": "4eb09806",
   "metadata": {},
   "source": [
    "## Fancy Indexing :"
   ]
  },
  {
   "cell_type": "code",
   "execution_count": 91,
   "id": "32cf9bf5",
   "metadata": {},
   "outputs": [
    {
     "name": "stdout",
     "output_type": "stream",
     "text": [
      "[[ 0  1  2  3]\n",
      " [ 4  5  6  7]\n",
      " [ 8  9 10 11]\n",
      " [12 13 14 15]\n",
      " [16 17 18 19]\n",
      " [20 21 22 23]]\n",
      "\n",
      "[[ 0  1  2  3]\n",
      " [ 8  9 10 11]\n",
      " [12 13 14 15]\n",
      " [20 21 22 23]]\n",
      "\n",
      "[[ 0  2  3]\n",
      " [ 4  6  7]\n",
      " [ 8 10 11]\n",
      " [12 14 15]\n",
      " [16 18 19]\n",
      " [20 22 23]]\n"
     ]
    }
   ],
   "source": [
    "# Fancy Indexing: When you want to find the index where you dont have any pattern then you can use fancy indexing:\n",
    "# You use this in Pandas more\n",
    "a=np.arange(24).reshape(6,4)\n",
    "print(a)\n",
    "print()\n",
    "print(a[[0,2,3,5]])\n",
    "print()\n",
    "print(a[:,[0,2,3]])"
   ]
  },
  {
   "cell_type": "markdown",
   "id": "b8717bb9",
   "metadata": {},
   "source": [
    "## Boolean Indexing:"
   ]
  },
  {
   "cell_type": "markdown",
   "id": "6a85a3fe",
   "metadata": {},
   "source": [
    "Sometimes you have to get the elements based on conditiions like get even numbers from the array or get the numbers which are divisible by 3. So here we can use this boolean indexing where there is no concept of indexing."
   ]
  },
  {
   "cell_type": "code",
   "execution_count": 92,
   "id": "28d92af0",
   "metadata": {},
   "outputs": [
    {
     "data": {
      "text/plain": [
       "array([[47, 90, 97, 69],\n",
       "       [89, 90, 28, 37],\n",
       "       [94, 42, 59, 72],\n",
       "       [ 6, 81, 63, 11],\n",
       "       [83, 95, 86, 78],\n",
       "       [86, 86, 90, 60]])"
      ]
     },
     "execution_count": 92,
     "metadata": {},
     "output_type": "execute_result"
    }
   ],
   "source": [
    "import numpy as np\n",
    "a=np.random.randint(1,100,24).reshape(6,4)\n",
    "a"
   ]
  },
  {
   "cell_type": "code",
   "execution_count": 93,
   "id": "d907a557",
   "metadata": {},
   "outputs": [
    {
     "data": {
      "text/plain": [
       "array([[False,  True,  True,  True],\n",
       "       [ True,  True, False, False],\n",
       "       [ True, False,  True,  True],\n",
       "       [False,  True,  True, False],\n",
       "       [ True,  True,  True,  True],\n",
       "       [ True,  True,  True,  True]])"
      ]
     },
     "execution_count": 93,
     "metadata": {},
     "output_type": "execute_result"
    }
   ],
   "source": [
    "# finding all numbers greater than 50:\n",
    "a>50"
   ]
  },
  {
   "cell_type": "code",
   "execution_count": 94,
   "id": "002cad69",
   "metadata": {},
   "outputs": [
    {
     "data": {
      "text/plain": [
       "array([90, 97, 69, 89, 90, 94, 59, 72, 81, 63, 83, 95, 86, 78, 86, 86, 90,\n",
       "       60])"
      ]
     },
     "execution_count": 94,
     "metadata": {},
     "output_type": "execute_result"
    }
   ],
   "source": [
    "a[a>50]"
   ]
  },
  {
   "cell_type": "code",
   "execution_count": 96,
   "id": "78e99ace",
   "metadata": {},
   "outputs": [
    {
     "data": {
      "text/plain": [
       "array([90, 90, 28, 94, 42, 72,  6, 86, 78, 86, 86, 90, 60])"
      ]
     },
     "execution_count": 96,
     "metadata": {},
     "output_type": "execute_result"
    }
   ],
   "source": [
    "# Finding all even numbers:\n",
    "a[a%2==0]"
   ]
  },
  {
   "cell_type": "code",
   "execution_count": 100,
   "id": "3e5b996c",
   "metadata": {},
   "outputs": [
    {
     "data": {
      "text/plain": [
       "array([90, 90, 94, 72, 86, 78, 86, 86, 90, 60])"
      ]
     },
     "execution_count": 100,
     "metadata": {},
     "output_type": "execute_result"
    }
   ],
   "source": [
    "a[(a>50) & (a%2==0)]"
   ]
  },
  {
   "cell_type": "code",
   "execution_count": 101,
   "id": "5d2a3d3a",
   "metadata": {},
   "outputs": [
    {
     "data": {
      "text/plain": [
       "array([28, 42, 63])"
      ]
     },
     "execution_count": 101,
     "metadata": {},
     "output_type": "execute_result"
    }
   ],
   "source": [
    "# Find all numbers divisible by 7\n",
    "a[a%7==0]"
   ]
  },
  {
   "cell_type": "markdown",
   "id": "e563a01d",
   "metadata": {},
   "source": [
    "# Broadcasting:"
   ]
  },
  {
   "cell_type": "markdown",
   "id": "0e68ca5a",
   "metadata": {},
   "source": [
    "The term broadcasting describes how numpy treats arrays with different shapes during arithmetic operations. The smaller the array is \"broadcasted\" across the larger array so that they have compatible shapes.\n"
   ]
  },
  {
   "cell_type": "markdown",
   "id": "cfe76cb1",
   "metadata": {},
   "source": [
    "Broadcasting rules:\n",
    "    1. Make the two arrays have the same number of dimensions\n",
    "        *  If the no.of dimensions of the two arrays are different, add new            dimensions with size 1 to the head of the array with the smaller            dimension.\n",
    "    2. Make each dimension of the two arrays the same size\n",
    "         *  If the sizes of each dimension of the two arrays do not match,             dimensions with size 1 are stretched to the size of the other                array.\n",
    "         *   If there is a dimension whos size is not in either of the two              arrays, it cant be broadcasted and an error arises."
   ]
  },
  {
   "cell_type": "code",
   "execution_count": 102,
   "id": "b0bc357d",
   "metadata": {},
   "outputs": [
    {
     "name": "stdout",
     "output_type": "stream",
     "text": [
      "[[0 1 2]\n",
      " [3 4 5]]\n",
      "[[ 6  7  8]\n",
      " [ 9 10 11]]\n",
      "[[ 6  8 10]\n",
      " [12 14 16]]\n"
     ]
    }
   ],
   "source": [
    "# same shape\n",
    "a = np.arange(6).reshape(2,3)\n",
    "b = np.arange(6,12).reshape(2,3)\n",
    "\n",
    "print(a)\n",
    "print(b)\n",
    "\n",
    "print(a+b)"
   ]
  },
  {
   "cell_type": "code",
   "execution_count": 103,
   "id": "659d0536",
   "metadata": {},
   "outputs": [
    {
     "name": "stdout",
     "output_type": "stream",
     "text": [
      "[[0 1 2]\n",
      " [3 4 5]]\n",
      "[[0 1 2]]\n",
      "[[0 2 4]\n",
      " [3 5 7]]\n"
     ]
    }
   ],
   "source": [
    "# diff shape\n",
    "a = np.arange(6).reshape(2,3)\n",
    "b = np.arange(3).reshape(1,3)\n",
    "\n",
    "print(a)\n",
    "print(b)\n",
    "\n",
    "print(a+b)"
   ]
  },
  {
   "cell_type": "markdown",
   "id": "6fe193e8",
   "metadata": {},
   "source": [
    "<img src = \"https://jakevdp.github.io/PythonDataScienceHandbook/figures/02.05-broadcasting.png\">"
   ]
  },
  {
   "cell_type": "code",
   "execution_count": 104,
   "id": "99637c56",
   "metadata": {},
   "outputs": [
    {
     "name": "stdout",
     "output_type": "stream",
     "text": [
      "[[ 0  1  2]\n",
      " [ 3  4  5]\n",
      " [ 6  7  8]\n",
      " [ 9 10 11]]\n",
      "[0 1 2]\n",
      "[[ 0  2  4]\n",
      " [ 3  5  7]\n",
      " [ 6  8 10]\n",
      " [ 9 11 13]]\n"
     ]
    }
   ],
   "source": [
    "# More examples\n",
    "\n",
    "a = np.arange(12).reshape(4,3)\n",
    "b = np.arange(3)\n",
    "\n",
    "print(a)\n",
    "print(b)\n",
    "\n",
    "print(a+b)"
   ]
  },
  {
   "cell_type": "code",
   "execution_count": 105,
   "id": "00b8c550",
   "metadata": {},
   "outputs": [
    {
     "name": "stdout",
     "output_type": "stream",
     "text": [
      "[[ 0  1  2  3]\n",
      " [ 4  5  6  7]\n",
      " [ 8  9 10 11]]\n",
      "[0 1 2]\n"
     ]
    },
    {
     "ename": "ValueError",
     "evalue": "operands could not be broadcast together with shapes (3,4) (3,) ",
     "output_type": "error",
     "traceback": [
      "\u001b[1;31m---------------------------------------------------------------------------\u001b[0m",
      "\u001b[1;31mValueError\u001b[0m                                Traceback (most recent call last)",
      "Cell \u001b[1;32mIn[105], line 7\u001b[0m\n\u001b[0;32m      4\u001b[0m \u001b[38;5;28mprint\u001b[39m(a)\n\u001b[0;32m      5\u001b[0m \u001b[38;5;28mprint\u001b[39m(b)\n\u001b[1;32m----> 7\u001b[0m \u001b[38;5;28mprint\u001b[39m(a\u001b[38;5;241m+\u001b[39mb)\n",
      "\u001b[1;31mValueError\u001b[0m: operands could not be broadcast together with shapes (3,4) (3,) "
     ]
    }
   ],
   "source": [
    "a = np.arange(12).reshape(3,4)\n",
    "b = np.arange(3)\n",
    "\n",
    "print(a)\n",
    "print(b)\n",
    "\n",
    "print(a+b)"
   ]
  },
  {
   "cell_type": "code",
   "execution_count": 106,
   "id": "f082e8e8",
   "metadata": {},
   "outputs": [
    {
     "name": "stdout",
     "output_type": "stream",
     "text": [
      "[[0 1 2]]\n",
      "[[0]\n",
      " [1]\n",
      " [2]]\n",
      "[[0 1 2]\n",
      " [1 2 3]\n",
      " [2 3 4]]\n"
     ]
    }
   ],
   "source": [
    "a = np.arange(3).reshape(1,3)\n",
    "b = np.arange(3).reshape(3,1)\n",
    "\n",
    "print(a)\n",
    "print(b)\n",
    "\n",
    "print(a+b)"
   ]
  },
  {
   "cell_type": "code",
   "execution_count": 107,
   "id": "8031e0ff",
   "metadata": {},
   "outputs": [
    {
     "name": "stdout",
     "output_type": "stream",
     "text": [
      "[[0 1 2]]\n",
      "[[0]\n",
      " [1]\n",
      " [2]\n",
      " [3]]\n",
      "[[0 1 2]\n",
      " [1 2 3]\n",
      " [2 3 4]\n",
      " [3 4 5]]\n"
     ]
    }
   ],
   "source": [
    "a = np.arange(3).reshape(1,3)\n",
    "b = np.arange(4).reshape(4,1)\n",
    "\n",
    "print(a)\n",
    "print(b)\n",
    "\n",
    "print(a + b)"
   ]
  },
  {
   "cell_type": "code",
   "execution_count": 108,
   "id": "a33e9004",
   "metadata": {},
   "outputs": [
    {
     "name": "stdout",
     "output_type": "stream",
     "text": [
      "[1]\n",
      "[[0 1]\n",
      " [2 3]]\n",
      "[[1 2]\n",
      " [3 4]]\n"
     ]
    }
   ],
   "source": [
    "a = np.array([1])\n",
    "# shape -> (1,1)\n",
    "b = np.arange(4).reshape(2,2)\n",
    "# shape -> (2,2)\n",
    "\n",
    "print(a)\n",
    "print(b)\n",
    "\n",
    "print(a+b)"
   ]
  },
  {
   "cell_type": "code",
   "execution_count": 109,
   "id": "36e46e6b",
   "metadata": {},
   "outputs": [
    {
     "name": "stdout",
     "output_type": "stream",
     "text": [
      "[[ 0  1  2  3]\n",
      " [ 4  5  6  7]\n",
      " [ 8  9 10 11]\n",
      " [12 13 14 15]]\n",
      "[[0 1]\n",
      " [2 3]]\n"
     ]
    },
    {
     "ename": "ValueError",
     "evalue": "operands could not be broadcast together with shapes (4,4) (2,2) ",
     "output_type": "error",
     "traceback": [
      "\u001b[1;31m---------------------------------------------------------------------------\u001b[0m",
      "\u001b[1;31mValueError\u001b[0m                                Traceback (most recent call last)",
      "Cell \u001b[1;32mIn[109], line 7\u001b[0m\n\u001b[0;32m      4\u001b[0m \u001b[38;5;28mprint\u001b[39m(a)\n\u001b[0;32m      5\u001b[0m \u001b[38;5;28mprint\u001b[39m(b)\n\u001b[1;32m----> 7\u001b[0m \u001b[38;5;28mprint\u001b[39m(a\u001b[38;5;241m+\u001b[39mb)\n",
      "\u001b[1;31mValueError\u001b[0m: operands could not be broadcast together with shapes (4,4) (2,2) "
     ]
    }
   ],
   "source": [
    "a = np.arange(16).reshape(4,4)\n",
    "b = np.arange(4).reshape(2,2)\n",
    "\n",
    "print(a)\n",
    "print(b)\n",
    "\n",
    "print(a+b)"
   ]
  },
  {
   "cell_type": "markdown",
   "id": "7959e5c8",
   "metadata": {},
   "source": [
    "## Working with mathematical formulas:\n"
   ]
  },
  {
   "cell_type": "code",
   "execution_count": 110,
   "id": "93de75c5",
   "metadata": {},
   "outputs": [
    {
     "data": {
      "text/plain": [
       "array([ 0.        ,  0.84147098,  0.90929743,  0.14112001, -0.7568025 ,\n",
       "       -0.95892427, -0.2794155 ,  0.6569866 ,  0.98935825,  0.41211849])"
      ]
     },
     "execution_count": 110,
     "metadata": {},
     "output_type": "execute_result"
    }
   ],
   "source": [
    "a = np.arange(10)\n",
    "np.sin(a)"
   ]
  },
  {
   "cell_type": "code",
   "execution_count": 112,
   "id": "51a078ca",
   "metadata": {},
   "outputs": [
    {
     "data": {
      "text/plain": [
       "array([0.5       , 0.73105858, 0.88079708, 0.95257413, 0.98201379,\n",
       "       0.99330715, 0.99752738, 0.99908895, 0.99966465, 0.99987661,\n",
       "       0.9999546 , 0.9999833 , 0.99999386, 0.99999774, 0.99999917,\n",
       "       0.99999969, 0.99999989, 0.99999996, 0.99999998, 0.99999999,\n",
       "       1.        , 1.        , 1.        , 1.        , 1.        ,\n",
       "       1.        , 1.        , 1.        , 1.        , 1.        ,\n",
       "       1.        , 1.        , 1.        , 1.        , 1.        ,\n",
       "       1.        , 1.        , 1.        , 1.        , 1.        ,\n",
       "       1.        , 1.        , 1.        , 1.        , 1.        ,\n",
       "       1.        , 1.        , 1.        , 1.        , 1.        ])"
      ]
     },
     "execution_count": 112,
     "metadata": {},
     "output_type": "execute_result"
    }
   ],
   "source": [
    "# sigmoid\n",
    "def sigmoid(array):\n",
    "  return 1/(1 + np.exp(-(array)))\n",
    "\n",
    "\n",
    "a = np.arange(50)\n",
    "\n",
    "sigmoid(a)"
   ]
  },
  {
   "cell_type": "code",
   "execution_count": 113,
   "id": "8afac421",
   "metadata": {},
   "outputs": [
    {
     "data": {
      "text/plain": [
       "311.4"
      ]
     },
     "execution_count": 113,
     "metadata": {},
     "output_type": "execute_result"
    }
   ],
   "source": [
    "# mean squared error\n",
    "\n",
    "actual = np.random.randint(1,50,25)\n",
    "predicted = np.random.randint(1,50,25)\n",
    "\n",
    "def mse(actual,predicted):\n",
    "  return np.mean((actual - predicted)**2)\n",
    "\n",
    "mse(actual,predicted)"
   ]
  },
  {
   "cell_type": "code",
   "execution_count": null,
   "id": "abb2e4c2",
   "metadata": {},
   "outputs": [],
   "source": [
    "# Binary cross entropy:\n"
   ]
  },
  {
   "cell_type": "markdown",
   "id": "332efb3a",
   "metadata": {},
   "source": [
    "### Working with missing values"
   ]
  },
  {
   "cell_type": "code",
   "execution_count": 114,
   "id": "675f7750",
   "metadata": {},
   "outputs": [
    {
     "data": {
      "text/plain": [
       "array([ 1.,  2.,  3.,  4., nan,  6.])"
      ]
     },
     "execution_count": 114,
     "metadata": {},
     "output_type": "execute_result"
    }
   ],
   "source": [
    "# Working with missing values -> np.nan\n",
    "a = np.array([1,2,3,4,np.nan,6])\n",
    "a"
   ]
  },
  {
   "cell_type": "code",
   "execution_count": 116,
   "id": "f5b15da1",
   "metadata": {},
   "outputs": [
    {
     "data": {
      "text/plain": [
       "array([1., 2., 3., 4., 6.])"
      ]
     },
     "execution_count": 116,
     "metadata": {},
     "output_type": "execute_result"
    }
   ],
   "source": [
    "a[~np.isnan(a)]"
   ]
  },
  {
   "cell_type": "markdown",
   "id": "61facb0d",
   "metadata": {},
   "source": [
    "## Plotting graphs:"
   ]
  },
  {
   "cell_type": "code",
   "execution_count": 122,
   "id": "617af6ad",
   "metadata": {},
   "outputs": [
    {
     "data": {
      "text/plain": [
       "[<matplotlib.lines.Line2D at 0x1f453470490>]"
      ]
     },
     "execution_count": 122,
     "metadata": {},
     "output_type": "execute_result"
    },
    {
     "data": {
      "image/png": "[encoded data removed]",
      "text/plain": [
       "<Figure size 640x480 with 1 Axes>"
      ]
     },
     "metadata": {},
     "output_type": "display_data"
    }
   ],
   "source": [
    "# Plotting a 2D plot:\n",
    "import matplotlib.pyplot as plt \n",
    "\n",
    "x=np.linspace(-10,10,100)\n",
    "y=x\n",
    "plt.plot(x,y)"
   ]
  },
  {
   "cell_type": "code",
   "execution_count": 123,
   "id": "3b687604",
   "metadata": {},
   "outputs": [
    {
     "data": {
      "text/plain": [
       "[<matplotlib.lines.Line2D at 0x1f4534b07d0>]"
      ]
     },
     "execution_count": 123,
     "metadata": {},
     "output_type": "execute_result"
    },
    {
     "data": {
      "image/png": "[encoded data removed]",
      "text/plain": [
       "<Figure size 640x480 with 1 Axes>"
      ]
     },
     "metadata": {},
     "output_type": "display_data"
    }
   ],
   "source": [
    "# y=x^2\n",
    "x=np.linspace(-10,10,100)\n",
    "y=x**2\n",
    "\n",
    "plt.plot(x,y)"
   ]
  },
  {
   "cell_type": "code",
   "execution_count": 128,
   "id": "2a8d9ff2",
   "metadata": {},
   "outputs": [
    {
     "data": {
      "text/plain": [
       "[<matplotlib.lines.Line2D at 0x1f454eb3650>]"
      ]
     },
     "execution_count": 128,
     "metadata": {},
     "output_type": "execute_result"
    },
    {
     "data": {
      "image/png": "[encoded data removed]",
      "text/plain": [
       "<Figure size 640x480 with 1 Axes>"
      ]
     },
     "metadata": {},
     "output_type": "display_data"
    }
   ],
   "source": [
    "y=np.sin(x)\n",
    "plt.plot(x,y)\n",
    "plt.plot(y,x)"
   ]
  },
  {
   "cell_type": "code",
   "execution_count": 130,
   "id": "5021355f",
   "metadata": {},
   "outputs": [
    {
     "name": "stderr",
     "output_type": "stream",
     "text": [
      "C:\\Users\\shyam\\AppData\\Local\\Temp\\ipykernel_15912\\3780282901.py:1: RuntimeWarning: invalid value encountered in log\n",
      "  y=x* np.log(x)\n"
     ]
    },
    {
     "data": {
      "text/plain": [
       "[<matplotlib.lines.Line2D at 0x1f4545b4090>]"
      ]
     },
     "execution_count": 130,
     "metadata": {},
     "output_type": "execute_result"
    },
    {
     "data": {
      "image/png": "[encoded data removed]",
      "text/plain": [
       "<Figure size 640x480 with 1 Axes>"
      ]
     },
     "metadata": {},
     "output_type": "display_data"
    }
   ],
   "source": [
    "y=x* np.log(x)\n",
    "plt.plot(x,y)"
   ]
  },
  {
   "cell_type": "code",
   "execution_count": 134,
   "id": "63975fb1",
   "metadata": {},
   "outputs": [
    {
     "data": {
      "image/png": "[encoded data removed]",
      "text/plain": [
       "<Figure size 640x480 with 1 Axes>"
      ]
     },
     "metadata": {},
     "output_type": "display_data"
    }
   ],
   "source": [
    "y=1/(1+np.exp(-x))\n",
    "plt.plot(x,y)\n",
    "plt.grid()"
   ]
  },
  {
   "cell_type": "code",
   "execution_count": null,
   "id": "122e1ff7",
   "metadata": {},
   "outputs": [],
   "source": []
  }
 ],
 "metadata": {
  "kernelspec": {
   "display_name": "Python 3 (ipykernel)",
   "language": "python",
   "name": "python3"
  },
  "language_info": {
   "codemirror_mode": {
    "name": "ipython",
    "version": 3
   },
   "file_extension": ".py",
   "mimetype": "text/x-python",
   "name": "python",
   "nbconvert_exporter": "python",
   "pygments_lexer": "ipython3",
   "version": "3.11.4"
  }
 },
 "nbformat": 4,
 "nbformat_minor": 5
}
